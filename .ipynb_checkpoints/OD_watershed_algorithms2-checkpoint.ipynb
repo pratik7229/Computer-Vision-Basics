{
 "cells": [
  {
   "cell_type": "code",
   "execution_count": 15,
   "id": "571373b9",
   "metadata": {},
   "outputs": [],
   "source": [
    "import numpy as np \n",
    "import cv2\n",
    "import matplotlib.pyplot as plt\n",
    "%matplotlib inline"
   ]
  },
  {
   "cell_type": "code",
   "execution_count": 16,
   "id": "17856cb3",
   "metadata": {},
   "outputs": [],
   "source": [
    "def display(img,cmap='gray'):\n",
    "    fig = plt.figure(figsize=(12,10))\n",
    "    ax = fig.add_subplot(111)\n",
    "    ax.imshow(img,cmap='gray')"
   ]
  },
  {
   "cell_type": "code",
   "execution_count": 17,
   "id": "93092b08",
   "metadata": {},
   "outputs": [],
   "source": [
    "road = cv2.imread('DATA/road_image.jpg')\n"
   ]
  },
  {
   "cell_type": "code",
   "execution_count": 18,
   "id": "da3ab2d7",
   "metadata": {},
   "outputs": [],
   "source": [
    "road_copy = np.copy(road)"
   ]
  },
  {
   "cell_type": "code",
   "execution_count": 19,
   "id": "00128469",
   "metadata": {},
   "outputs": [
    {
     "data": {
      "text/plain": [
       "(600, 800, 3)"
      ]
     },
     "execution_count": 19,
     "metadata": {},
     "output_type": "execute_result"
    }
   ],
   "source": [
    "road.shape"
   ]
  },
  {
   "cell_type": "code",
   "execution_count": 20,
   "id": "ec957513",
   "metadata": {},
   "outputs": [],
   "source": [
    "marker_image = np.zeros(road.shape[:2],dtype=np.int32)"
   ]
  },
  {
   "cell_type": "code",
   "execution_count": 21,
   "id": "f43be4f1",
   "metadata": {},
   "outputs": [],
   "source": [
    "segments = np.zeros(road.shape,dtype=np.uint8)"
   ]
  },
  {
   "cell_type": "code",
   "execution_count": 22,
   "id": "6a92d9b0",
   "metadata": {},
   "outputs": [],
   "source": [
    "from matplotlib import cm\n"
   ]
  },
  {
   "cell_type": "code",
   "execution_count": 23,
   "id": "564ff450",
   "metadata": {},
   "outputs": [
    {
     "data": {
      "text/plain": [
       "(0.12156862745098039, 0.4666666666666667, 0.7058823529411765, 1.0)"
      ]
     },
     "execution_count": 23,
     "metadata": {},
     "output_type": "execute_result"
    }
   ],
   "source": [
    "cm.tab10(0)"
   ]
  },
  {
   "cell_type": "code",
   "execution_count": 24,
   "id": "bdd74d57",
   "metadata": {},
   "outputs": [],
   "source": [
    "def create_rgb(i):\n",
    "    return tuple(np.array(cm.tab10(i)[:3])*255)"
   ]
  },
  {
   "cell_type": "code",
   "execution_count": 25,
   "id": "26be0f13",
   "metadata": {},
   "outputs": [],
   "source": [
    "colors = []\n",
    "for i in range(10):\n",
    "    colors.append(create_rgb(i))"
   ]
  },
  {
   "cell_type": "code",
   "execution_count": 28,
   "id": "9c7f4e34",
   "metadata": {},
   "outputs": [],
   "source": [
    "n_markers = 10\n",
    "current_marker = 1\n",
    "marks_updated = False"
   ]
  },
  {
   "cell_type": "code",
   "execution_count": 29,
   "id": "f3b5e37c",
   "metadata": {},
   "outputs": [],
   "source": [
    "def mouse_callback(event, x, y, flags, param):\n",
    "    global marks_updated \n",
    "\n",
    "    if event == cv2.EVENT_LBUTTONDOWN:\n",
    "        \n",
    "        # TRACKING FOR MARKERS\n",
    "        cv2.circle(marker_image, (x, y), 10, (current_marker), -1)\n",
    "        \n",
    "        # DISPLAY ON USER IMAGE\n",
    "        cv2.circle(road_copy, (x, y), 10, colors[current_marker], -1)\n",
    "        marks_updated = True\n"
   ]
  },
  {
   "cell_type": "code",
   "execution_count": 30,
   "id": "54d5821f",
   "metadata": {},
   "outputs": [],
   "source": [
    "cv2.namedWindow('Road Image')\n",
    "cv2.setMouseCallback('Road Image', mouse_callback)\n",
    "\n",
    "while True:\n",
    "    \n",
    "    # SHow the 2 windows\n",
    "    cv2.imshow('WaterShed Segments', segments)\n",
    "    cv2.imshow('Road Image', road_copy)\n",
    "        \n",
    "        \n",
    "    # Close everything if Esc is pressed\n",
    "    k = cv2.waitKey(1)\n",
    "\n",
    "    if k == 27:\n",
    "        break\n",
    "        \n",
    "    # Clear all colors and start over if 'c' is pressed\n",
    "    elif k == ord('c'):\n",
    "        road_copy = road.copy()\n",
    "        marker_image = np.zeros(road.shape[0:2], dtype=np.int32)\n",
    "        segments = np.zeros(road.shape,dtype=np.uint8)\n",
    "        \n",
    "    # If a number 0-9 is chosen index the color\n",
    "    elif k > 0 and chr(k).isdigit():\n",
    "        # chr converts to printable digit\n",
    "        \n",
    "        current_marker  = int(chr(k))\n",
    "        \n",
    "        # CODE TO CHECK INCASE USER IS CARELESS\n",
    "#         n = int(chr(k))\n",
    "#         if 1 <= n <= n_markers:\n",
    "#             current_marker = n\n",
    "    \n",
    "    # If we clicked somewhere, call the watershed algorithm on our chosen markers\n",
    "    if marks_updated:\n",
    "        \n",
    "        marker_image_copy = marker_image.copy()\n",
    "        cv2.watershed(road, marker_image_copy)\n",
    "        \n",
    "        segments = np.zeros(road.shape,dtype=np.uint8)\n",
    "        \n",
    "        for color_ind in range(n_markers):\n",
    "            segments[marker_image_copy == (color_ind)] = colors[color_ind]\n",
    "        \n",
    "        marks_updated = False\n",
    "        \n",
    "cv2.destroyAllWindows()"
   ]
  },
  {
   "cell_type": "code",
   "execution_count": null,
   "id": "ef5a2405",
   "metadata": {},
   "outputs": [],
   "source": []
  }
 ],
 "metadata": {
  "kernelspec": {
   "display_name": "Python 3 (ipykernel)",
   "language": "python",
   "name": "python3"
  },
  "language_info": {
   "codemirror_mode": {
    "name": "ipython",
    "version": 3
   },
   "file_extension": ".py",
   "mimetype": "text/x-python",
   "name": "python",
   "nbconvert_exporter": "python",
   "pygments_lexer": "ipython3",
   "version": "3.8.10"
  }
 },
 "nbformat": 4,
 "nbformat_minor": 5
}
